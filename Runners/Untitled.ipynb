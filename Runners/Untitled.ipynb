{
 "cells": [
  {
   "cell_type": "code",
   "execution_count": 1,
   "metadata": {
    "collapsed": false
   },
   "outputs": [
    {
     "name": "stderr",
     "output_type": "stream",
     "text": [
      "C:\\Program Files\\Anaconda3\\lib\\importlib\\_bootstrap.py:222: RuntimeWarning: numpy.dtype size changed, may indicate binary incompatibility. Expected 96, got 88\n",
      "  return f(*args, **kwds)\n",
      "C:\\Program Files\\Anaconda3\\lib\\site-packages\\h5py\\__init__.py:36: FutureWarning: Conversion of the second argument of issubdtype from `float` to `np.floating` is deprecated. In future, it will be treated as `np.float64 == np.dtype(float).type`.\n",
      "  from ._conv import register_converters as _register_converters\n",
      "Using TensorFlow backend.\n"
     ]
    }
   ],
   "source": [
    "import json\n",
    "import numpy as np\n",
    "from timeit import default_timer\n",
    "\n",
    "from keras.models import Sequential\n",
    "from keras.layers import Dense, Activation, Flatten\n",
    "from keras.optimizers import Adam"
   ]
  },
  {
   "cell_type": "code",
   "execution_count": 2,
   "metadata": {
    "collapsed": false
   },
   "outputs": [],
   "source": [
    "model = Sequential()\n",
    "model.add(Flatten(input_shape=(1, 16)))\n",
    "model.add(Dense(32))\n",
    "model.add(Activation('relu'))\n",
    "model.add(Dense(32))\n",
    "model.add(Activation('relu'))\n",
    "model.add(Dense(32))\n",
    "model.add(Activation('relu'))\n",
    "model.add(Dense(3, activation='linear'))"
   ]
  },
  {
   "cell_type": "code",
   "execution_count": 3,
   "metadata": {
    "collapsed": true
   },
   "outputs": [],
   "source": [
    "from keras import losses\n",
    "\n",
    "model.compile(Adam(lr=1e-3), metrics=['mae', 'accuracy'], loss=losses.mean_squared_error)"
   ]
  },
  {
   "cell_type": "code",
   "execution_count": 4,
   "metadata": {
    "collapsed": true
   },
   "outputs": [],
   "source": [
    "import json\n",
    "import math\n",
    "import os\n",
    "from tqdm import tqdm_notebook\n",
    "\n",
    "def norm_angle(theta):\n",
    "    ''' Normalize an angle in radians to [0, 2*pi) '''\n",
    "    angle = theta % (2*math.pi)\n",
    "    if angle < 0:\n",
    "        angle = 2*math.pi - angle\n",
    "    return angle\n",
    "\n",
    "prev_pos = (-1, -1)\n",
    "prev_angle = -1\n",
    "\n",
    "\n",
    "def get_observation(msg):\n",
    "    global prev_pos, prev_angle\n",
    "    observation = []\n",
    "    for car in ['my_car', 'enemy_car']:\n",
    "        data = msg[car]\n",
    "        # print('angle ({}): {}'.format(car, data[1], norm_angle(data[1])))\n",
    "        if data[2] == -1:\n",
    "            for i in [0, 3, 4]:\n",
    "                data[i] = (1200 - data[i][0], data[i][1])\n",
    "        observation.extend([data[2], norm_angle(data[1]), data[3][0], data[3][1], data[4][0], data[4][1]])\n",
    "    observation.append(10)#min(observation[3], observation[5]) - msg['params'].get('deadline_position', 0))\n",
    "    if prev_pos[0] == -1:\n",
    "        observation.extend([0.0, 0.0])\n",
    "    else:\n",
    "        observation.extend([(observation[2] + observation[4]) / 2 - prev_pos[0],\n",
    "                            (observation[3] + observation[5]) / 2 - prev_pos[1]])\n",
    "    prev_pos = ((observation[2] + observation[4]) / 2, (observation[3] + observation[5]) / 2)\n",
    "    if prev_angle == -1:\n",
    "        observation.append(0.0)\n",
    "    else:\n",
    "        observation.append(observation[1] - prev_angle)\n",
    "    prev_angle = observation[1]\n",
    "\n",
    "    return observation\n",
    "\n",
    "\n",
    "def process(directory):\n",
    "    global prev_pos, prev_angle\n",
    "    # [0,\"stop\",[[300.0,300.0],0.0,1,[329.0,295.0,0.0],[422.0,295.0,0.0]]]\n",
    "    states = []\n",
    "    actions = []\n",
    "    terminal = []\n",
    "    reward = []\n",
    "    for fname in tqdm_notebook(os.listdir(directory)):\n",
    "        with open(directory + '/' + fname) as f:\n",
    "            prev_pos = (-1, -1)\n",
    "            prev_angle = -1\n",
    "            raw_my = f.readline()\n",
    "            raw_enemy = f.readline()\n",
    "            try:\n",
    "                raw_my = json.loads(raw_my)\n",
    "            except:\n",
    "                print('raw_my', raw_my)\n",
    "                continue\n",
    "            try:\n",
    "                raw_enemy = json.loads(raw_enemy)\n",
    "            except:\n",
    "                print('raw_enemy', raw_enemy)\n",
    "                continue\n",
    "            if not raw_my['win']:\n",
    "                print('Skipping {}...'.format(fname))\n",
    "                continue\n",
    "                #raw_my, raw_enemy = raw_enemy, raw_my\n",
    "            obs_my, obs_enemy = raw_my['dump'], raw_enemy['dump']\n",
    "            for step in range(len(obs_my)):\n",
    "                actions.append(obs_my[step][1])\n",
    "                states.append(get_observation({'my_car': obs_my[step][2], 'enemy_car': obs_enemy[step][2]}))\n",
    "                if step < len(obs_my) - 1:\n",
    "                    terminal.append(False)\n",
    "                    reward.append(1)\n",
    "                else:\n",
    "                    terminal.append(True)\n",
    "                    reward.append(10000)\n",
    "    return states, actions, terminal, reward"
   ]
  },
  {
   "cell_type": "code",
   "execution_count": 44,
   "metadata": {
    "collapsed": false
   },
   "outputs": [
    {
     "name": "stdout",
     "output_type": "stream",
     "text": [
      "Skipping dump_11832907.dat...\n",
      "Skipping dump_12293293.dat...\n",
      "Skipping dump_13006602.dat...\n",
      "Skipping dump_14486439.dat...\n",
      "Skipping dump_15990758.dat...\n",
      "Skipping dump_16203432.dat...\n",
      "Skipping dump_17161855.dat...\n",
      "Skipping dump_17986139.dat...\n",
      "Skipping dump_18271944.dat...\n",
      "Skipping dump_18410106.dat...\n",
      "Skipping dump_1883096.dat...\n",
      "Skipping dump_19217954.dat...\n",
      "Skipping dump_19282197.dat...\n",
      "Skipping dump_2041416.dat...\n",
      "Skipping dump_24998655.dat...\n",
      "Skipping dump_25956862.dat...\n",
      "Skipping dump_27936358.dat...\n",
      "Skipping dump_28430348.dat...\n",
      "Skipping dump_30585970.dat...\n",
      "Skipping dump_31683463.dat...\n",
      "Skipping dump_32319065.dat...\n",
      "Skipping dump_34909062.dat...\n",
      "Skipping dump_35306096.dat...\n",
      "Skipping dump_35939991.dat...\n",
      "Skipping dump_36463644.dat...\n",
      "Skipping dump_39022448.dat...\n",
      "Skipping dump_40783271.dat...\n",
      "Skipping dump_43263294.dat...\n",
      "Skipping dump_43924344.dat...\n",
      "Skipping dump_45142051.dat...\n",
      "Skipping dump_46719636.dat...\n",
      "Skipping dump_47059906.dat...\n",
      "Skipping dump_48858393.dat...\n",
      "Skipping dump_49909393.dat...\n",
      "Skipping dump_50448391.dat...\n",
      "Skipping dump_52291391.dat...\n",
      "Skipping dump_52864966.dat...\n",
      "Skipping dump_53645175.dat...\n",
      "Skipping dump_53758775.dat...\n",
      "Skipping dump_54312464.dat...\n",
      "Skipping dump_57279000.dat...\n",
      "Skipping dump_60959888.dat...\n",
      "Skipping dump_61310155.dat...\n",
      "Skipping dump_62557803.dat...\n",
      "Skipping dump_63583491.dat...\n",
      "Skipping dump_64793825.dat...\n",
      "Skipping dump_71641482.dat...\n",
      "Skipping dump_72579296.dat...\n",
      "Skipping dump_74779425.dat...\n",
      "Skipping dump_75485384.dat...\n",
      "Skipping dump_78675855.dat...\n",
      "Skipping dump_85672732.dat...\n",
      "Skipping dump_86087597.dat...\n",
      "Skipping dump_86778623.dat...\n",
      "Skipping dump_87280555.dat...\n",
      "Skipping dump_87480829.dat...\n",
      "Skipping dump_90678823.dat...\n",
      "Skipping dump_91685098.dat...\n",
      "Skipping dump_97637422.dat...\n",
      "Skipping dump_98180759.dat...\n",
      "Skipping dump_98781296.dat...\n",
      "\n"
     ]
    }
   ],
   "source": [
    "states, actions, terminal, reward = process('dumps/PillCarcassMap_Buggy')"
   ]
  },
  {
   "cell_type": "code",
   "execution_count": 45,
   "metadata": {
    "collapsed": false
   },
   "outputs": [
    {
     "data": {
      "text/plain": [
       "22595"
      ]
     },
     "execution_count": 45,
     "metadata": {},
     "output_type": "execute_result"
    }
   ],
   "source": [
    "len(states)"
   ]
  },
  {
   "cell_type": "code",
   "execution_count": 53,
   "metadata": {
    "collapsed": false
   },
   "outputs": [
    {
     "name": "stdout",
     "output_type": "stream",
     "text": [
      "_________________________________________________________________\n",
      "Layer (type)                 Output Shape              Param #   \n",
      "=================================================================\n",
      "flatten_3 (Flatten)          (None, 16)                0         \n",
      "_________________________________________________________________\n",
      "dense_8 (Dense)              (None, 32)                544       \n",
      "_________________________________________________________________\n",
      "activation_7 (Activation)    (None, 32)                0         \n",
      "_________________________________________________________________\n",
      "dense_9 (Dense)              (None, 32)                1056      \n",
      "_________________________________________________________________\n",
      "activation_8 (Activation)    (None, 32)                0         \n",
      "_________________________________________________________________\n",
      "dense_10 (Dense)             (None, 32)                1056      \n",
      "_________________________________________________________________\n",
      "activation_9 (Activation)    (None, 32)                0         \n",
      "_________________________________________________________________\n",
      "dense_11 (Dense)             (None, 3)                 99        \n",
      "=================================================================\n",
      "Total params: 2,755\n",
      "Trainable params: 2,755\n",
      "Non-trainable params: 0\n",
      "_________________________________________________________________\n"
     ]
    }
   ],
   "source": [
    "model.summary()"
   ]
  },
  {
   "cell_type": "code",
   "execution_count": 46,
   "metadata": {
    "collapsed": false
   },
   "outputs": [],
   "source": [
    "from keras.utils import to_categorical\n",
    "\n",
    "x_train = np.array(states)\n",
    "\n",
    "atoi = {'left': 0, 'right': 1, 'stop': 2}\n",
    "y_train = to_categorical([atoi[a] for a in actions])"
   ]
  },
  {
   "cell_type": "code",
   "execution_count": 47,
   "metadata": {
    "collapsed": false
   },
   "outputs": [],
   "source": [
    "x_train = x_train.reshape((x_train.shape[0], 1, x_train.shape[1]))"
   ]
  },
  {
   "cell_type": "code",
   "execution_count": 9,
   "metadata": {
    "collapsed": false
   },
   "outputs": [
    {
     "data": {
      "text/plain": [
       "array([[[ 1.00000000e+00,  0.00000000e+00,  3.38000000e+02, ...,\n",
       "          0.00000000e+00,  0.00000000e+00,  0.00000000e+00]],\n",
       "\n",
       "       [[ 1.00000000e+00,  0.00000000e+00,  3.38000000e+02, ...,\n",
       "          0.00000000e+00,  0.00000000e+00,  0.00000000e+00]],\n",
       "\n",
       "       [[ 1.00000000e+00,  6.28066890e+00,  3.37923566e+02, ...,\n",
       "         -7.63717844e-02, -1.88966282e-01,  6.28066890e+00]],\n",
       "\n",
       "       ...,\n",
       "\n",
       "       [[ 1.00000000e+00,  7.69124977e-01,  5.67737875e+02, ...,\n",
       "          0.00000000e+00,  0.00000000e+00,  0.00000000e+00]],\n",
       "\n",
       "       [[ 1.00000000e+00,  7.69124977e-01,  5.67737875e+02, ...,\n",
       "          0.00000000e+00,  0.00000000e+00,  0.00000000e+00]],\n",
       "\n",
       "       [[ 1.00000000e+00,  7.69124977e-01,  5.67737875e+02, ...,\n",
       "          0.00000000e+00,  0.00000000e+00,  0.00000000e+00]]])"
      ]
     },
     "execution_count": 9,
     "metadata": {},
     "output_type": "execute_result"
    }
   ],
   "source": [
    "x_train"
   ]
  },
  {
   "cell_type": "code",
   "execution_count": 48,
   "metadata": {
    "collapsed": false
   },
   "outputs": [
    {
     "name": "stdout",
     "output_type": "stream",
     "text": [
      "Epoch 1/20\n",
      "22595/22595 [==============================] - 10s 445us/step - loss: 0.1121 - mean_absolute_error: 0.2293 - acc: 0.7660\n",
      "Epoch 2/20\n",
      "22595/22595 [==============================] - 10s 450us/step - loss: 0.0993 - mean_absolute_error: 0.2054 - acc: 0.7845\n",
      "Epoch 3/20\n",
      "22595/22595 [==============================] - 10s 438us/step - loss: 0.0970 - mean_absolute_error: 0.2013 - acc: 0.7926\n",
      "Epoch 4/20\n",
      "22595/22595 [==============================] - 9s 408us/step - loss: 0.0930 - mean_absolute_error: 0.1943 - acc: 0.8031\n",
      "Epoch 5/20\n",
      "22595/22595 [==============================] - 10s 422us/step - loss: 0.0903 - mean_absolute_error: 0.1902 - acc: 0.8142\n",
      "Epoch 6/20\n",
      "22595/22595 [==============================] - 10s 460us/step - loss: 0.0888 - mean_absolute_error: 0.1867 - acc: 0.8161\n",
      "Epoch 7/20\n",
      "22595/22595 [==============================] - 9s 411us/step - loss: 0.0879 - mean_absolute_error: 0.1850 - acc: 0.8185\n",
      "Epoch 8/20\n",
      "22595/22595 [==============================] - 9s 415us/step - loss: 0.0883 - mean_absolute_error: 0.1864 - acc: 0.8133\n",
      "Epoch 9/20\n",
      "22595/22595 [==============================] - 9s 417us/step - loss: 0.0869 - mean_absolute_error: 0.1842 - acc: 0.8186\n",
      "Epoch 10/20\n",
      "22595/22595 [==============================] - 9s 411us/step - loss: 0.0867 - mean_absolute_error: 0.1803 - acc: 0.8177\n",
      "Epoch 11/20\n",
      "22595/22595 [==============================] - 9s 406us/step - loss: 0.0876 - mean_absolute_error: 0.1833 - acc: 0.8154\n",
      "Epoch 12/20\n",
      "22595/22595 [==============================] - 9s 406us/step - loss: 0.0873 - mean_absolute_error: 0.1837 - acc: 0.8186\n",
      "Epoch 13/20\n",
      "22595/22595 [==============================] - 9s 409us/step - loss: 0.0867 - mean_absolute_error: 0.1822 - acc: 0.8122\n",
      "Epoch 14/20\n",
      "22595/22595 [==============================] - 9s 414us/step - loss: 0.0850 - mean_absolute_error: 0.1782 - acc: 0.8222\n",
      "Epoch 15/20\n",
      "22595/22595 [==============================] - 9s 417us/step - loss: 0.0843 - mean_absolute_error: 0.1774 - acc: 0.8238\n",
      "Epoch 16/20\n",
      "22595/22595 [==============================] - 9s 409us/step - loss: 0.0848 - mean_absolute_error: 0.1773 - acc: 0.8234\n",
      "Epoch 17/20\n",
      "22595/22595 [==============================] - 9s 407us/step - loss: 0.0857 - mean_absolute_error: 0.1802 - acc: 0.8145\n",
      "Epoch 18/20\n",
      "22595/22595 [==============================] - 9s 410us/step - loss: 0.0858 - mean_absolute_error: 0.1807 - acc: 0.8110\n",
      "Epoch 19/20\n",
      "22595/22595 [==============================] - 9s 406us/step - loss: 0.0854 - mean_absolute_error: 0.1791 - acc: 0.8155\n",
      "Epoch 20/20\n",
      "22595/22595 [==============================] - 9s 405us/step - loss: 0.0868 - mean_absolute_error: 0.1812 - acc: 0.8129\n"
     ]
    },
    {
     "data": {
      "text/plain": [
       "<keras.callbacks.History at 0x2e379c19f28>"
      ]
     },
     "execution_count": 48,
     "metadata": {},
     "output_type": "execute_result"
    }
   ],
   "source": [
    "model.fit(x=x_train, y=y_train, batch_size=4, epochs=20)"
   ]
  },
  {
   "cell_type": "code",
   "execution_count": 70,
   "metadata": {
    "collapsed": false,
    "scrolled": false
   },
   "outputs": [
    {
     "data": {
      "text/plain": [
       "array([[0.06426321, 0.22319226, 0.7107716 ],\n",
       "       [0.06426321, 0.22319226, 0.7107716 ],\n",
       "       [0.06426321, 0.22319226, 0.7107716 ],\n",
       "       ...,\n",
       "       [0.2116197 , 0.18295498, 0.6005717 ],\n",
       "       [0.10605744, 0.21177989, 0.67951596],\n",
       "       [0.06426321, 0.22319226, 0.7107716 ]], dtype=float32)"
      ]
     },
     "execution_count": 70,
     "metadata": {},
     "output_type": "execute_result"
    }
   ],
   "source": [
    "model.predict(x_train, batch_size=1)"
   ]
  },
  {
   "cell_type": "code",
   "execution_count": 65,
   "metadata": {
    "collapsed": false
   },
   "outputs": [
    {
     "data": {
      "text/plain": [
       "array([  1.,   0., 329., 295., 422., 295.,  -1.,   0., 329., 295., 422.,\n",
       "       295.,  10.,   0.,   0.,   0.])"
      ]
     },
     "execution_count": 65,
     "metadata": {},
     "output_type": "execute_result"
    }
   ],
   "source": [
    "x_train[0][0]"
   ]
  },
  {
   "cell_type": "code",
   "execution_count": 49,
   "metadata": {
    "collapsed": true
   },
   "outputs": [],
   "source": [
    "model.save_weights('duel_dqn_101.h5f')"
   ]
  },
  {
   "cell_type": "code",
   "execution_count": null,
   "metadata": {
    "collapsed": true
   },
   "outputs": [],
   "source": []
  }
 ],
 "metadata": {
  "anaconda-cloud": {},
  "kernelspec": {
   "display_name": "Python [conda env:Anaconda3]",
   "language": "python",
   "name": "conda-env-Anaconda3-py"
  },
  "language_info": {
   "codemirror_mode": {
    "name": "ipython",
    "version": 3
   },
   "file_extension": ".py",
   "mimetype": "text/x-python",
   "name": "python",
   "nbconvert_exporter": "python",
   "pygments_lexer": "ipython3",
   "version": "3.5.4"
  },
  "widgets": {
   "state": {
    "2ff7f8c852f349678a6482659c2e96a8": {
     "views": [
      {
       "cell_index": 4
      }
     ]
    }
   },
   "version": "1.2.0"
  }
 },
 "nbformat": 4,
 "nbformat_minor": 1
}
