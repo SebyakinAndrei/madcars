{
 "cells": [
  {
   "cell_type": "code",
   "execution_count": 1,
   "metadata": {
    "collapsed": false
   },
   "outputs": [
    {
     "name": "stderr",
     "output_type": "stream",
     "text": [
      "C:\\Program Files\\Anaconda3\\lib\\importlib\\_bootstrap.py:222: RuntimeWarning: numpy.dtype size changed, may indicate binary incompatibility. Expected 96, got 88\n",
      "  return f(*args, **kwds)\n",
      "C:\\Program Files\\Anaconda3\\lib\\site-packages\\h5py\\__init__.py:36: FutureWarning: Conversion of the second argument of issubdtype from `float` to `np.floating` is deprecated. In future, it will be treated as `np.float64 == np.dtype(float).type`.\n",
      "  from ._conv import register_converters as _register_converters\n",
      "Using TensorFlow backend.\n"
     ]
    }
   ],
   "source": [
    "import json\n",
    "import numpy as np\n",
    "from timeit import default_timer\n",
    "\n",
    "from keras.models import Sequential\n",
    "from keras.layers import Dense, Activation, Flatten\n",
    "from keras.optimizers import Adam"
   ]
  },
  {
   "cell_type": "code",
   "execution_count": 2,
   "metadata": {
    "collapsed": false
   },
   "outputs": [],
   "source": [
    "model = Sequential()\n",
    "model.add(Flatten(input_shape=(1, 16)))\n",
    "model.add(Dense(32))\n",
    "model.add(Activation('relu'))\n",
    "model.add(Dense(32))\n",
    "model.add(Activation('relu'))\n",
    "model.add(Dense(32))\n",
    "model.add(Activation('relu'))\n",
    "model.add(Dense(3, activation='linear'))"
   ]
  },
  {
   "cell_type": "code",
   "execution_count": 3,
   "metadata": {
    "collapsed": true
   },
   "outputs": [],
   "source": [
    "from keras import losses\n",
    "\n",
    "model.compile(Adam(lr=1e-3), metrics=['mae', 'accuracy'], loss=losses.mean_squared_error)"
   ]
  },
  {
   "cell_type": "code",
   "execution_count": 4,
   "metadata": {
    "collapsed": true
   },
   "outputs": [],
   "source": [
    "import json\n",
    "import math\n",
    "import os\n",
    "from tqdm import tqdm_notebook\n",
    "\n",
    "def norm_angle(theta):\n",
    "    ''' Normalize an angle in radians to [0, 2*pi) '''\n",
    "    angle = theta % (2*math.pi)\n",
    "    if angle < 0:\n",
    "        angle = 2*math.pi - angle\n",
    "    return angle\n",
    "\n",
    "prev_pos = (-1, -1)\n",
    "prev_angle = -1\n",
    "\n",
    "\n",
    "def get_observation(msg):\n",
    "    global prev_pos, prev_angle\n",
    "    observation = []\n",
    "    for car in ['my_car', 'enemy_car']:\n",
    "        data = msg[car]\n",
    "        # print('angle ({}): {}'.format(car, data[1], norm_angle(data[1])))\n",
    "        if data[2] == -1:\n",
    "            for i in [0, 3, 4]:\n",
    "                data[i] = (1200 - data[i][0], data[i][1])\n",
    "        observation.extend([data[2], norm_angle(data[1]), data[3][0], data[3][1], data[4][0], data[4][1]])\n",
    "    observation.append(10)#min(observation[3], observation[5]) - msg['params'].get('deadline_position', 0))\n",
    "    if prev_pos[0] == -1:\n",
    "        observation.extend([0.0, 0.0])\n",
    "    else:\n",
    "        observation.extend([(observation[2] + observation[4]) / 2 - prev_pos[0],\n",
    "                            (observation[3] + observation[5]) / 2 - prev_pos[1]])\n",
    "    prev_pos = ((observation[2] + observation[4]) / 2, (observation[3] + observation[5]) / 2)\n",
    "    if prev_angle == -1:\n",
    "        observation.append(0.0)\n",
    "    else:\n",
    "        observation.append(observation[1] - prev_angle)\n",
    "    prev_angle = observation[1]\n",
    "\n",
    "    return observation\n",
    "\n",
    "\n",
    "def process(directory):\n",
    "    global prev_pos, prev_angle\n",
    "    # [0,\"stop\",[[300.0,300.0],0.0,1,[329.0,295.0,0.0],[422.0,295.0,0.0]]]\n",
    "    states = []\n",
    "    actions = []\n",
    "    terminal = []\n",
    "    reward = []\n",
    "    for fname in tqdm_notebook(os.listdir(directory)):\n",
    "        with open(directory + '/' + fname) as f:\n",
    "            prev_pos = (-1, -1)\n",
    "            prev_angle = -1\n",
    "            raw_my = f.readline()\n",
    "            raw_enemy = f.readline()\n",
    "            try:\n",
    "                raw_my = json.loads(raw_my)\n",
    "            except:\n",
    "                print('raw_my', raw_my)\n",
    "                continue\n",
    "            try:\n",
    "                raw_enemy = json.loads(raw_enemy)\n",
    "            except:\n",
    "                print('raw_enemy', raw_enemy)\n",
    "                continue\n",
    "            if not raw_my['win']:\n",
    "                print('Skipping {}...'.format(fname))\n",
    "                continue\n",
    "                #raw_my, raw_enemy = raw_enemy, raw_my\n",
    "            obs_my, obs_enemy = raw_my['dump'], raw_enemy['dump']\n",
    "            for step in range(len(obs_my)):\n",
    "                actions.append(obs_my[step][1])\n",
    "                states.append(get_observation({'my_car': obs_my[step][2], 'enemy_car': obs_enemy[step][2]}))\n",
    "                if step < len(obs_my) - 1:\n",
    "                    terminal.append(False)\n",
    "                    reward.append(1)\n",
    "                else:\n",
    "                    terminal.append(True)\n",
    "                    reward.append(10000)\n",
    "    return states, actions, terminal, reward"
   ]
  },
  {
   "cell_type": "code",
   "execution_count": 5,
   "metadata": {
    "collapsed": false
   },
   "outputs": [
    {
     "name": "stdout",
     "output_type": "stream",
     "text": [
      "Skipping dump_16217571.dat...\n",
      "Skipping dump_2050090.dat...\n",
      "Skipping dump_2934108.dat...\n",
      "Skipping dump_39944268.dat...\n",
      "Skipping dump_49490503.dat...\n",
      "Skipping dump_52230593.dat...\n",
      "Skipping dump_5817838.dat...\n",
      "Skipping dump_79793109.dat...\n",
      "Skipping dump_95221678.dat...\n",
      "\n"
     ]
    }
   ],
   "source": [
    "states, actions, terminal, reward = process('dumps/PillMap_Bus')"
   ]
  },
  {
   "cell_type": "code",
   "execution_count": 6,
   "metadata": {
    "collapsed": false
   },
   "outputs": [
    {
     "data": {
      "text/plain": [
       "19566"
      ]
     },
     "execution_count": 6,
     "metadata": {},
     "output_type": "execute_result"
    }
   ],
   "source": [
    "len(states)"
   ]
  },
  {
   "cell_type": "code",
   "execution_count": 53,
   "metadata": {
    "collapsed": false
   },
   "outputs": [
    {
     "name": "stdout",
     "output_type": "stream",
     "text": [
      "_________________________________________________________________\n",
      "Layer (type)                 Output Shape              Param #   \n",
      "=================================================================\n",
      "flatten_3 (Flatten)          (None, 16)                0         \n",
      "_________________________________________________________________\n",
      "dense_8 (Dense)              (None, 32)                544       \n",
      "_________________________________________________________________\n",
      "activation_7 (Activation)    (None, 32)                0         \n",
      "_________________________________________________________________\n",
      "dense_9 (Dense)              (None, 32)                1056      \n",
      "_________________________________________________________________\n",
      "activation_8 (Activation)    (None, 32)                0         \n",
      "_________________________________________________________________\n",
      "dense_10 (Dense)             (None, 32)                1056      \n",
      "_________________________________________________________________\n",
      "activation_9 (Activation)    (None, 32)                0         \n",
      "_________________________________________________________________\n",
      "dense_11 (Dense)             (None, 3)                 99        \n",
      "=================================================================\n",
      "Total params: 2,755\n",
      "Trainable params: 2,755\n",
      "Non-trainable params: 0\n",
      "_________________________________________________________________\n"
     ]
    }
   ],
   "source": [
    "model.summary()"
   ]
  },
  {
   "cell_type": "code",
   "execution_count": 7,
   "metadata": {
    "collapsed": false
   },
   "outputs": [],
   "source": [
    "from keras.utils import to_categorical\n",
    "\n",
    "x_train = np.array(states)\n",
    "\n",
    "atoi = {'left': 0, 'right': 1, 'stop': 2}\n",
    "y_train = to_categorical([atoi[a] for a in actions])"
   ]
  },
  {
   "cell_type": "code",
   "execution_count": 8,
   "metadata": {
    "collapsed": false
   },
   "outputs": [],
   "source": [
    "x_train = x_train.reshape((x_train.shape[0], 1, x_train.shape[1]))"
   ]
  },
  {
   "cell_type": "code",
   "execution_count": 9,
   "metadata": {
    "collapsed": false
   },
   "outputs": [
    {
     "data": {
      "text/plain": [
       "array([[[ 1.00000000e+00,  0.00000000e+00,  3.38000000e+02, ...,\n",
       "          0.00000000e+00,  0.00000000e+00,  0.00000000e+00]],\n",
       "\n",
       "       [[ 1.00000000e+00,  0.00000000e+00,  3.38000000e+02, ...,\n",
       "          0.00000000e+00,  0.00000000e+00,  0.00000000e+00]],\n",
       "\n",
       "       [[ 1.00000000e+00,  6.28066890e+00,  3.37923566e+02, ...,\n",
       "         -7.63717844e-02, -1.88966282e-01,  6.28066890e+00]],\n",
       "\n",
       "       ...,\n",
       "\n",
       "       [[ 1.00000000e+00,  7.69124977e-01,  5.67737875e+02, ...,\n",
       "          0.00000000e+00,  0.00000000e+00,  0.00000000e+00]],\n",
       "\n",
       "       [[ 1.00000000e+00,  7.69124977e-01,  5.67737875e+02, ...,\n",
       "          0.00000000e+00,  0.00000000e+00,  0.00000000e+00]],\n",
       "\n",
       "       [[ 1.00000000e+00,  7.69124977e-01,  5.67737875e+02, ...,\n",
       "          0.00000000e+00,  0.00000000e+00,  0.00000000e+00]]])"
      ]
     },
     "execution_count": 9,
     "metadata": {},
     "output_type": "execute_result"
    }
   ],
   "source": [
    "x_train"
   ]
  },
  {
   "cell_type": "code",
   "execution_count": 9,
   "metadata": {
    "collapsed": false
   },
   "outputs": [
    {
     "name": "stdout",
     "output_type": "stream",
     "text": [
      "Epoch 1/30\n",
      "19566/19566 [==============================] - 3s 145us/step - loss: 18.0213 - mean_absolute_error: 1.5505 - acc: 0.4533\n",
      "Epoch 2/30\n",
      "19566/19566 [==============================] - 2s 123us/step - loss: 0.7846 - mean_absolute_error: 0.6540 - acc: 0.5314\n",
      "Epoch 3/30\n",
      "19566/19566 [==============================] - 2s 125us/step - loss: 0.7805 - mean_absolute_error: 0.6122 - acc: 0.5557\n",
      "Epoch 4/30\n",
      "19566/19566 [==============================] - 2s 124us/step - loss: 0.4998 - mean_absolute_error: 0.5236 - acc: 0.5908\n",
      "Epoch 5/30\n",
      "19566/19566 [==============================] - 2s 123us/step - loss: 0.4650 - mean_absolute_error: 0.4883 - acc: 0.6121\n",
      "Epoch 6/30\n",
      "19566/19566 [==============================] - 2s 122us/step - loss: 0.3156 - mean_absolute_error: 0.4154 - acc: 0.6573\n",
      "Epoch 7/30\n",
      "19566/19566 [==============================] - 2s 122us/step - loss: 0.2590 - mean_absolute_error: 0.3776 - acc: 0.6864\n",
      "Epoch 8/30\n",
      "19566/19566 [==============================] - 2s 121us/step - loss: 0.1978 - mean_absolute_error: 0.3294 - acc: 0.7131\n",
      "Epoch 9/30\n",
      "19566/19566 [==============================] - 2s 122us/step - loss: 0.1865 - mean_absolute_error: 0.3155 - acc: 0.7137\n",
      "Epoch 10/30\n",
      "19566/19566 [==============================] - 2s 121us/step - loss: 0.1571 - mean_absolute_error: 0.2896 - acc: 0.7288\n",
      "Epoch 11/30\n",
      "19566/19566 [==============================] - 2s 121us/step - loss: 0.1491 - mean_absolute_error: 0.2809 - acc: 0.7320\n",
      "Epoch 12/30\n",
      "19566/19566 [==============================] - 2s 121us/step - loss: 0.1346 - mean_absolute_error: 0.2693 - acc: 0.7417\n",
      "Epoch 13/30\n",
      "19566/19566 [==============================] - 2s 112us/step - loss: 0.1248 - mean_absolute_error: 0.2586 - acc: 0.7533\n",
      "Epoch 14/30\n",
      "19566/19566 [==============================] - 2s 102us/step - loss: 0.1223 - mean_absolute_error: 0.2533 - acc: 0.7551\n",
      "Epoch 15/30\n",
      "19566/19566 [==============================] - 2s 102us/step - loss: 0.1242 - mean_absolute_error: 0.2557 - acc: 0.7457\n",
      "Epoch 16/30\n",
      "19566/19566 [==============================] - 2s 101us/step - loss: 0.1195 - mean_absolute_error: 0.2491 - acc: 0.7492\n",
      "Epoch 17/30\n",
      "19566/19566 [==============================] - 2s 101us/step - loss: 0.1173 - mean_absolute_error: 0.2443 - acc: 0.7583\n",
      "Epoch 18/30\n",
      "19566/19566 [==============================] - 2s 101us/step - loss: 0.1160 - mean_absolute_error: 0.2415 - acc: 0.7617\n",
      "Epoch 19/30\n",
      "19566/19566 [==============================] - 2s 101us/step - loss: 0.1151 - mean_absolute_error: 0.2418 - acc: 0.7652\n",
      "Epoch 20/30\n",
      "19566/19566 [==============================] - 2s 101us/step - loss: 0.1132 - mean_absolute_error: 0.2342 - acc: 0.7682\n",
      "Epoch 21/30\n",
      "19566/19566 [==============================] - 2s 101us/step - loss: 0.1127 - mean_absolute_error: 0.2323 - acc: 0.7679\n",
      "Epoch 22/30\n",
      "19566/19566 [==============================] - 2s 101us/step - loss: 0.1132 - mean_absolute_error: 0.2329 - acc: 0.7677\n",
      "Epoch 23/30\n",
      "19566/19566 [==============================] - 2s 101us/step - loss: 0.1104 - mean_absolute_error: 0.2255 - acc: 0.7720\n",
      "Epoch 24/30\n",
      "19566/19566 [==============================] - 2s 101us/step - loss: 0.1103 - mean_absolute_error: 0.2269 - acc: 0.7735\n",
      "Epoch 25/30\n",
      "19566/19566 [==============================] - 2s 101us/step - loss: 0.1097 - mean_absolute_error: 0.2250 - acc: 0.7739\n",
      "Epoch 26/30\n",
      "19566/19566 [==============================] - 2s 101us/step - loss: 0.1088 - mean_absolute_error: 0.2230 - acc: 0.7770\n",
      "Epoch 27/30\n",
      "19566/19566 [==============================] - 2s 101us/step - loss: 0.1075 - mean_absolute_error: 0.2201 - acc: 0.7793\n",
      "Epoch 28/30\n",
      "19566/19566 [==============================] - 2s 100us/step - loss: 0.1064 - mean_absolute_error: 0.2185 - acc: 0.7823\n",
      "Epoch 29/30\n",
      "19566/19566 [==============================] - 2s 100us/step - loss: 0.1079 - mean_absolute_error: 0.2196 - acc: 0.7791\n",
      "Epoch 30/30\n",
      "19566/19566 [==============================] - 2s 100us/step - loss: 0.1056 - mean_absolute_error: 0.2164 - acc: 0.7836\n"
     ]
    },
    {
     "data": {
      "text/plain": [
       "<keras.callbacks.History at 0x2e3795e10b8>"
      ]
     },
     "execution_count": 9,
     "metadata": {},
     "output_type": "execute_result"
    }
   ],
   "source": [
    "model.fit(x=x_train, y=y_train, batch_size=16, epochs=10)"
   ]
  },
  {
   "cell_type": "code",
   "execution_count": 70,
   "metadata": {
    "collapsed": false,
    "scrolled": true
   },
   "outputs": [
    {
     "data": {
      "text/plain": [
       "array([[0.06426321, 0.22319226, 0.7107716 ],\n",
       "       [0.06426321, 0.22319226, 0.7107716 ],\n",
       "       [0.06426321, 0.22319226, 0.7107716 ],\n",
       "       ...,\n",
       "       [0.2116197 , 0.18295498, 0.6005717 ],\n",
       "       [0.10605744, 0.21177989, 0.67951596],\n",
       "       [0.06426321, 0.22319226, 0.7107716 ]], dtype=float32)"
      ]
     },
     "execution_count": 70,
     "metadata": {},
     "output_type": "execute_result"
    }
   ],
   "source": [
    "model.predict(x_train, batch_size=1)"
   ]
  },
  {
   "cell_type": "code",
   "execution_count": 65,
   "metadata": {
    "collapsed": false
   },
   "outputs": [
    {
     "data": {
      "text/plain": [
       "array([  1.,   0., 329., 295., 422., 295.,  -1.,   0., 329., 295., 422.,\n",
       "       295.,  10.,   0.,   0.,   0.])"
      ]
     },
     "execution_count": 65,
     "metadata": {},
     "output_type": "execute_result"
    }
   ],
   "source": [
    "x_train[0][0]"
   ]
  },
  {
   "cell_type": "code",
   "execution_count": 10,
   "metadata": {
    "collapsed": true
   },
   "outputs": [],
   "source": [
    "model.save_weights('duel_dqn_101.h5f')"
   ]
  },
  {
   "cell_type": "code",
   "execution_count": null,
   "metadata": {
    "collapsed": true
   },
   "outputs": [],
   "source": []
  }
 ],
 "metadata": {
  "anaconda-cloud": {},
  "kernelspec": {
   "display_name": "Python [conda env:Anaconda3]",
   "language": "python",
   "name": "conda-env-Anaconda3-py"
  },
  "language_info": {
   "codemirror_mode": {
    "name": "ipython",
    "version": 3
   },
   "file_extension": ".py",
   "mimetype": "text/x-python",
   "name": "python",
   "nbconvert_exporter": "python",
   "pygments_lexer": "ipython3",
   "version": "3.5.4"
  },
  "widgets": {
   "state": {
    "e8e657006294467081043728854e359a": {
     "views": [
      {
       "cell_index": 4
      }
     ]
    }
   },
   "version": "1.2.0"
  }
 },
 "nbformat": 4,
 "nbformat_minor": 1
}
